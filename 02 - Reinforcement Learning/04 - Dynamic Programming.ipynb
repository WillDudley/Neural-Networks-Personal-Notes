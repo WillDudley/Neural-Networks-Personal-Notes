{
 "cells": [
  {
   "cell_type": "markdown",
   "metadata": {},
   "source": [
    "# Overview"
   ]
  },
  {
   "cell_type": "markdown",
   "metadata": {},
   "source": [
    "This chapter will focus on iterative policy evaluation. This iteratively finds the optimal policy for a task by applying the Bellman Equation repeatedly, and convergence will follow. The problem of finding $V(s)$ given a policy is called the \"prediction problem\". The problem of finding the optimal policy is called the \"control problem\"."
   ]
  },
  {
   "cell_type": "markdown",
   "metadata": {},
   "source": [
    "# Gridworld in Code"
   ]
  },
  {
   "cell_type": "markdown",
   "metadata": {},
   "source": [
    "See \"Gridworld_in_code.py\"."
   ]
  },
  {
   "cell_type": "markdown",
   "metadata": {},
   "source": [
    "## Code Outline"
   ]
  },
  {
   "cell_type": "markdown",
   "metadata": {},
   "source": [
    "<b>Environment class</b>\n",
    "<ul>\n",
    "    <li>Needs width, height, start_pos attribs. start_pos split into x coord and y coord.</li>\n",
    "    <li>Needs function to set tile_reward dictionary and possible_actions dictionary as attribs.</li>\n",
    "    <li>Needs function to set pos to an inputted tuple.</li>\n",
    "    <li>Good to have function that returns current_pos as tuple.</li>\n",
    "    <li>Good to have function is_in_terminal that returns T/F.</li>\n",
    "    <li>Needs function to execute actions from the state's possible_actions. Also returns reward of new state (hint: use rewards.get() ).</li>\n",
    "    <li>Undo move?</li>\n",
    "    <li>Needs function to return pos if game is over (hint: is pos in possible_actions?)</li>\n",
    "    <li>Needs function to get all_states</li>\n",
    "</ul>\n",
    "\n",
    "<b>standard_grid()</b>\n",
    "<ul>\n",
    "    <li>Describes rewards and possible actions at each state.</li>\n",
    "    <li>Returns a set of rewards and actions</li>\n",
    "</ul>\n",
    "\n",
    "<b>negative_grid(step_cost=-0.1)</b>\n",
    "<ul>\n",
    "    <li>Returns dictionary with all possible non-terminal positions being assigned the step_cost.</li>\n",
    "</ul>"
   ]
  },
  {
   "cell_type": "markdown",
   "metadata": {},
   "source": [
    "# Iterative Policy Evaluation in Code"
   ]
  },
  {
   "cell_type": "markdown",
   "metadata": {},
   "source": [
    "To demonstrate how we can find the value function for different policies, we'll do Iterative Policy Evaluation on two different policies.\n",
    "\n",
    "The first policy we'll look at is a completely random uniform policy. For this we'll just focus on $\\pi(a \\mid s)$, as $p(s', r \\mid s,a)$ is only relevant when state transitions are random.\n",
    "\n",
    "The second policy is a completely deterministic policy where we go towards the positive terminal state if we're along the top or left side, else we go towards the negative terminal state.\n",
    "\n",
    "See \"Iterative_Policy_Evaluation_in_code.py\"."
   ]
  },
  {
   "cell_type": "markdown",
   "metadata": {},
   "source": [
    "## Code Outline"
   ]
  },
  {
   "cell_type": "markdown",
   "metadata": {},
   "source": [
    "From our previous file import standard grid\n",
    "\n",
    "<b>print_values(V, g)</b>\n",
    "\n",
    "For i in rows print a line, for j in columns print $V(s)$ |.\n",
    "\n",
    "<b>print_policy(P, g)</b>\n",
    "\n",
    "Same as print_values() but with $\\pi(s)$. Only works for deterministic policies as only room for one value per state.\n",
    "\n",
    "<b>if __name__ == '__main__':</b>\n",
    "<ul>\n",
    "    <li>initialiise standard_grid()</li>\n",
    "    <li>initialise all_states()</li>\n",
    "    <li>For first policy: see code</li>\n",
    "    <li>For second policy: explicitly define the policy and follow similar logic</li>\n",
    "</ul>"
   ]
  },
  {
   "cell_type": "code",
   "execution_count": null,
   "metadata": {},
   "outputs": [],
   "source": []
  }
 ],
 "metadata": {
  "kernelspec": {
   "display_name": "Python 3",
   "language": "python",
   "name": "python3"
  },
  "language_info": {
   "codemirror_mode": {
    "name": "ipython",
    "version": 3
   },
   "file_extension": ".py",
   "mimetype": "text/x-python",
   "name": "python",
   "nbconvert_exporter": "python",
   "pygments_lexer": "ipython3",
   "version": "3.6.5"
  }
 },
 "nbformat": 4,
 "nbformat_minor": 2
}
